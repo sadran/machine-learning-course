{
 "cells": [
  {
   "cell_type": "markdown",
   "metadata": {},
   "source": [
    "# Homework #2: Linear Regression\n",
    "\n",
    "In this homework you will learn the concepts of linear regression by implementing it.\n",
    "\n",
    "Implement the body of each function and test whether you have done right for each of them or not by running the tests. Each function has a test code block just below its definition.\n",
    "\n",
    "- Remember: **m** = number of data items (size of the data set) and **n** = number of features\n",
    "\n",
    "Good luck!"
   ]
  },
  {
   "cell_type": "code",
   "execution_count": 1,
   "metadata": {},
   "outputs": [],
   "source": [
    "# import what we need\n",
    "\n",
    "import numpy as np\n",
    "from matplotlib import pyplot as plt\n",
    "%matplotlib inline"
   ]
  },
  {
   "cell_type": "markdown",
   "metadata": {},
   "source": [
    "## Hypothesis Function\n",
    "\n",
    "For a single data item $ x_{1 \\times n} $, the hypothesis is the linear product of $ w_{n \\times 1} $ and $ x_{1 \\times n} $ in addition to bias $ b_{1 \\times 1} $. The result is a number:\n",
    "\n",
    "$$ h_{w,b}(x) = w^Tx + b $$\n",
    "\n",
    "For a data set $ X_{m \\times n} $ which contains multiple data items stacking vertically, the result is a vector $ h_{m \\times 1} $ which contains predections for all data items:\n",
    "\n",
    "$$ h_{w,b}(X) = Xw + b $$"
   ]
  },
  {
   "cell_type": "code",
   "execution_count": 2,
   "metadata": {
    "collapsed": true
   },
   "outputs": [],
   "source": [
    "def h(X, w, b):\n",
    "    \"\"\"\n",
    "    The hypothesis function\n",
    "    \n",
    "    X: the data set matrix (m x n)\n",
    "    w: the weights vector (n x 1)\n",
    "    b: the bias (1 x 1)\n",
    "    \n",
    "    Return: a vector stacking predictions for all data items (m x 1)\n",
    "    \"\"\"\n",
    "    \n",
    "    # YOUR CODE GOES HERE (~ 1 line)\n",
    "    return X.dot(w)+b\n",
    "    "
   ]
  },
  {
   "cell_type": "code",
   "execution_count": 3,
   "metadata": {},
   "outputs": [
    {
     "name": "stdout",
     "output_type": "stream",
     "text": [
      "Hypothesis ok.\n"
     ]
    }
   ],
   "source": [
    "# test the hypothesis\n",
    "\n",
    "X, y, w, b = (np.array([[1, 2, 3], [4, 5, 6]]), np.array([[2], [3]]), np.array([[3], [4], [5]]), 5)\n",
    "\n",
    "hyp = h(X, w, b)\n",
    "true = np.array([[31], [67]])\n",
    "\n",
    "assert hyp.shape == (X.shape[0], 1), \\\n",
    "       'The result should be in shape ({}, 1). Currently is {}'.format(X.shape[0], hyp.shape)\n",
    "\n",
    "if np.allclose(hyp, true):\n",
    "    print('Hypothesis ok.')\n",
    "else:\n",
    "    print('Hypothesis does not work properly.')"
   ]
  },
  {
   "cell_type": "markdown",
   "metadata": {},
   "source": [
    "## Cost Function\n",
    "\n",
    "Cost function for a linear regression model is [Mean Squared Error](https://en.wikipedia.org/wiki/Mean_squared_error) over data set:\n",
    "\n",
    "$$ \\begin{equation}\n",
    "   \\begin{split}\n",
    "   J_{w,b}(X) &= \\frac{1}{2m}\\sum_{i=1}^m (h_{w,b}(x^{(i)}) - y^{(i)})^2 \\\\\n",
    "   &= \\frac{1}{2m}\\sum_{i=1}^m (\\hat{y}^{(i)} - y^{(i)})^2\n",
    "   \\end{split}\n",
    "   \\end{equation} $$\n",
    "\n",
    "The goal of linear regression is to minimize this cost."
   ]
  },
  {
   "cell_type": "code",
   "execution_count": 4,
   "metadata": {},
   "outputs": [],
   "source": [
    "def cost(y_true, y_pred):\n",
    "    \"\"\"\n",
    "    Mean squared error cost function\n",
    "    \n",
    "    y_true: the vector of true labels of data items (m x 1)\n",
    "    y_pred: the vector of predictions of data items (m x 1)\n",
    "    \n",
    "    Return: a single number representing the cost\n",
    "    \"\"\"\n",
    "    # YOUR CODE GOES HERE (~ 2 lines)\n",
    "    return  np.sum(( y_pred - y_true)**2) / (2*y_true.shape[0])\n",
    "    \n",
    "    "
   ]
  },
  {
   "cell_type": "code",
   "execution_count": 5,
   "metadata": {},
   "outputs": [
    {
     "name": "stdout",
     "output_type": "stream",
     "text": [
      "Cost function ok.\n"
     ]
    }
   ],
   "source": [
    "# test cost function\n",
    "\n",
    "from sklearn.metrics import mean_squared_error\n",
    "\n",
    "X, y, w, b = (np.array([[1, 2, 3], [4, 5, 6]]), np.array([[2], [3]]), np.array([[3], [4], [5]]), 5)\n",
    "\n",
    "mse = mean_squared_error(y, h(X, w, b))\n",
    "cst = cost(y, h(X, w, b))\n",
    "\n",
    "if np.isclose(mse / 2, cst):\n",
    "    print('Cost function ok.')\n",
    "else:\n",
    "    print('Cost function does not work properly.')\n",
    "    print('Should\\'ve returned:', mse / 2)\n",
    "    print('Returned:', cst)"
   ]
  },
  {
   "cell_type": "markdown",
   "metadata": {},
   "source": [
    "## Gradient Descent\n",
    "\n",
    "Gradient descent algorithm tries to find the minimum of a function by starting somewhere on the function and taking small steps through the gradient of the function.\n",
    "\n",
    "In linear regression, the function we are trying to minimize is the cost function $ J_{w,b}(X) $. The derivations are:\n",
    "\n",
    "$$ \\begin{equation}\n",
    "   \\begin{split}\n",
    "       \\frac{\\partial J_{w,b}(X)}{\\partial w_j} &= \\frac{\\partial}{\\partial w_j} \\frac{1}{2m}\\sum_{i=1}^m (h_{w,b}(x^{(i)}) - y^{(i)})^2 \\\\\n",
    "       &= \\frac{1}{2m}\\sum_{i=1}^m 2 (h_{w,b}(x^{(i)}) - y^{(i)}) \\frac{\\partial}{\\partial w_j} h_{w,b}(x^{(i)}) \\\\\n",
    "       &= \\frac{1}{m}\\sum_{i=1}^m (h_{w,b}(x^{(i)}) - y^{(i)}) x_{j}^{(i)} \\\\\n",
    "       &= \\frac{1}{m}\\sum_{i=1}^m (\\hat{y}^{(i)} - y^{(i)}) x_{j}^{(i)}\n",
    "   \\end{split}\n",
    "   \\end{equation} $$\n",
    "\n",
    "\n",
    "$$ \\begin{equation}\n",
    "   \\begin{split}\n",
    "       \\frac{\\partial J_{w,b}(X)}{\\partial b} &= \\frac{1}{m}\\sum_{i=1}^m \n",
    "       (h_{w,b}(x^{(i)}) - y^{(i)}) \\frac{\\partial}{\\partial b} h_{w,b}(x^{(i)}) \\\\\n",
    "       &= \\frac{1}{m}\\sum_{i=1}^m (h_{w,b}(x^{(i)}) - y^{(i)}) \\\\\n",
    "       &= \\frac{1}{m}\\sum_{i=1}^m (\\hat{y}^{(i)} - y^{(i)})\n",
    "   \\end{split}\n",
    "   \\end{equation} $$\n",
    "   \n",
    "- Actually these two derivations are the same except that in the second one, $ x_{0}^{(i)} = 1 $."
   ]
  },
  {
   "cell_type": "code",
   "execution_count": 6,
   "metadata": {
    "collapsed": true
   },
   "outputs": [],
   "source": [
    "def gradient(X, y_true, y_pred):\n",
    "    \"\"\"\n",
    "    The gradient of cost function\n",
    "    \n",
    "    X: the data set matrix (m x n)\n",
    "    y_true: the vector of true labels of data items (m x 1)\n",
    "    y_pred: the vector of predictions of data items (m x 1)\n",
    "    \n",
    "    Return: vector dJ/dw (n x 1) and number dJ/db (1 x 1)\n",
    "    \"\"\"\n",
    "    \n",
    "    # YOUR CODE GOES HERE (~ 4 lines)\n",
    "    dJdb = np.sum(y_pred - y_true) / y_true.shape[0]\n",
    "    dJdw = X.T.dot(y_pred - y_true) / y_true.shape[0]\n",
    "    return dJdw, dJdb"
   ]
  },
  {
   "cell_type": "code",
   "execution_count": 7,
   "metadata": {},
   "outputs": [
    {
     "name": "stdout",
     "output_type": "stream",
     "text": [
      "Gradient function ok.\n"
     ]
    }
   ],
   "source": [
    "X, y, w, b = (np.array([[1, 2, 3], [4, 5, 6]]), np.array([[2], [3]]), np.array([[3], [4], [5]]), 5)\n",
    "\n",
    "true = (np.array([[142.5], [189], [235.5]]), 46.5)\n",
    "res = gradient(X, y, h(X, w, b))\n",
    "\n",
    "if np.allclose(res[0], true[0]) and np.isclose(res[1], true[1]):\n",
    "    print('Gradient function ok.')\n",
    "else:\n",
    "    print('Gradient function is not working properly.')\n",
    "    print('should output:', true)\n",
    "    print('Outputted:', res)"
   ]
  },
  {
   "cell_type": "code",
   "execution_count": 8,
   "metadata": {
    "collapsed": true
   },
   "outputs": [],
   "source": [
    "def update_parameters(X, y_true, y_pred, w, b, alpha):\n",
    "    \"\"\"\n",
    "    This function updates parameters w and b according to their derivations.\n",
    "    It should compute the cost function derivations with respect to w and b first,\n",
    "        then take a step for each parameters in w and b.\n",
    "    \n",
    "    X: the data set matrix (m x n)\n",
    "    y_true: the vector of true labels of data items (m x 1)\n",
    "    y_pred: the vector of predictions of data items (m x 1)\n",
    "    w: the weights vector (n x 1)\n",
    "    b: the bias (1 x 1)\n",
    "    alpha: the learning rate\n",
    "    \n",
    "    Returns: the updated parameters w and b\n",
    "    \"\"\"\n",
    "    \n",
    "    # YOUR CODE GOES HERE (~ 4 lines)\n",
    "    w = w - alpha *gradient(X, y_true, y_pred)[0]\n",
    "    b = b - alpha *gradient(X, y_true, y_pred)[1]\n",
    "    return w, b"
   ]
  },
  {
   "cell_type": "code",
   "execution_count": 9,
   "metadata": {},
   "outputs": [
    {
     "name": "stdout",
     "output_type": "stream",
     "text": [
      "Update parameters function ok.\n"
     ]
    }
   ],
   "source": [
    "# test update_parameters function\n",
    "\n",
    "X, y, w, b = (np.array([[1, 2, 3], [4, 5, 6]]), np.array([[2], [3]]), np.array([[3], [4], [5]]), 5)\n",
    "\n",
    "res = update_parameters(X, y, h(X, w, b), w, b, 0.01)\n",
    "true = (np.array([[1.575], [2.11], [2.645]]), 4.535)\n",
    "\n",
    "if np.allclose(res[0], true[0]) and np.isclose(res[1], true[1]):\n",
    "    print('Update parameters function ok.')\n",
    "else:\n",
    "    print('Update parameters function is not working properly.')\n",
    "    print('should output:', true)\n",
    "    print('Outputted:', res)"
   ]
  },
  {
   "cell_type": "code",
   "execution_count": 10,
   "metadata": {},
   "outputs": [],
   "source": [
    "def gradient_descent(X, y, alpha, n_iterations):\n",
    "    \"\"\"\n",
    "    The gradient descent algorithm:\n",
    "        1. initialize parameters w and b with zeros (not randoms)\n",
    "        for i in n_iterations:\n",
    "            2. compute the hypothesis h(X, w, b)\n",
    "            3. update the parameters using function update_parameters(X, y_true, y_pred, w, b, alpha)\n",
    "            4. compute the cost and see the cost is decreasing in each step (optional)\n",
    "            \n",
    "    X: the data set matrix (m x n)\n",
    "    y: the vector of true labels of data items (m x 1)\n",
    "    alpha: the learning rate\n",
    "    n_iterations: number of steps gradient descent should take to converge\n",
    "    \n",
    "    Returns: the best parameters w and b gradient descent found at last\n",
    "    \"\"\"\n",
    "    \n",
    "    # YOUR CODE GOES HERE (~ 7 lines)\n",
    "    b=0\n",
    "    w = np.zeros( (X.shape[1], 1) ) \n",
    "    \n",
    "    for i in range(n_iterations):\n",
    "        y_pred = h(X, w, b)\n",
    "        w, b = update_parameters(X, y, y_pred, w, b, alpha)\n",
    "        print(\"step {}: cost = {}\".format( i, cost(y, y_pred) ) )\n",
    "    return w, b\n",
    "        "
   ]
  },
  {
   "cell_type": "code",
   "execution_count": 11,
   "metadata": {},
   "outputs": [
    {
     "name": "stdout",
     "output_type": "stream",
     "text": [
      "step 0: cost = 3.25\n",
      "step 1: cost = 1.02150625\n",
      "step 2: cost = 0.3724632615624999\n",
      "step 3: cost = 0.18296491850639454\n",
      "step 4: cost = 0.12717618524105734\n",
      "step 5: cost = 0.11029580200426725\n",
      "step 6: cost = 0.10474143581298409\n",
      "step 7: cost = 0.10248799882412561\n",
      "step 8: cost = 0.10120055441535392\n",
      "step 9: cost = 0.10019970725776858\n",
      "step 10: cost = 0.099287739678892\n",
      "step 11: cost = 0.09840707781580307\n",
      "step 12: cost = 0.09754092285714971\n",
      "step 13: cost = 0.09668433985015679\n",
      "step 14: cost = 0.09583584602923961\n",
      "step 15: cost = 0.09499496344933775\n",
      "step 16: cost = 0.09416150692468557\n",
      "step 17: cost = 0.09333537685209624\n",
      "step 18: cost = 0.09251649892965995\n",
      "step 19: cost = 0.09170480661447146\n",
      "Gradient descent function ok.\n"
     ]
    }
   ],
   "source": [
    "# test gradient_descent function\n",
    "\n",
    "true = (np.array([[0.11532006], [0.19906458], [0.2828091]]), 0.083744520421231317)\n",
    "res = gradient_descent(X, y, 0.01, 20)\n",
    "\n",
    "if np.allclose(res[0], true[0]) and np.isclose(res[1], true[1]):\n",
    "    print('Gradient descent function ok.')\n",
    "else:\n",
    "    print('Gradient descent function is not working properly.')\n",
    "    print('should output:', true)\n",
    "    print('Outputted:', res)"
   ]
  },
  {
   "cell_type": "markdown",
   "metadata": {},
   "source": [
    "## Test on Real Data"
   ]
  },
  {
   "cell_type": "code",
   "execution_count": 12,
   "metadata": {},
   "outputs": [],
   "source": [
    "# load the data\n",
    "\n",
    "from sklearn.datasets import load_diabetes\n",
    "from sklearn.preprocessing import scale\n",
    "X, y = load_diabetes(return_X_y=True)\n",
    "X = X[:, 3].reshape(X.shape[0], 1)\n",
    "X = scale(X)\n",
    "y = y.reshape((y.shape[0], 1))"
   ]
  },
  {
   "cell_type": "code",
   "execution_count": 13,
   "metadata": {
    "collapsed": true
   },
   "outputs": [],
   "source": [
    "# train a linear regression model from sklearn\n",
    "\n",
    "from sklearn.linear_model import LinearRegression\n",
    "model = LinearRegression().fit(X, y)"
   ]
  },
  {
   "cell_type": "code",
   "execution_count": 14,
   "metadata": {},
   "outputs": [
    {
     "name": "stdout",
     "output_type": "stream",
     "text": [
      "step 0: cost = 14537.240950226244\n",
      "step 1: cost = 12228.704950640227\n",
      "step 2: cost = 10358.790790975556\n",
      "step 3: cost = 8844.16032164717\n",
      "step 4: cost = 7617.309641491177\n",
      "step 5: cost = 6623.560590564824\n",
      "step 6: cost = 5818.623859314478\n",
      "step 7: cost = 5166.625107001699\n",
      "step 8: cost = 4638.506117628344\n",
      "step 9: cost = 4210.7297362359295\n",
      "step 10: cost = 3864.2308673080734\n",
      "step 11: cost = 3583.5667834765104\n",
      "step 12: cost = 3356.2288755729433\n",
      "step 13: cost = 3172.085170171055\n",
      "step 14: cost = 3022.9287687955252\n",
      "step 15: cost = 2902.1120836813448\n",
      "step 16: cost = 2804.2505687388602\n",
      "step 17: cost = 2724.982741635447\n",
      "step 18: cost = 2660.775801681683\n",
      "step 19: cost = 2608.7681803191326\n",
      "step 20: cost = 2566.6420070154686\n",
      "step 21: cost = 2532.5198066394996\n",
      "step 22: cost = 2504.880824334965\n",
      "step 23: cost = 2482.4932486682924\n",
      "step 24: cost = 2464.359312378287\n"
     ]
    }
   ],
   "source": [
    "# train our linear regression model\n",
    "\n",
    "w, b = gradient_descent(X, y, 0.1, 25)"
   ]
  },
  {
   "cell_type": "code",
   "execution_count": 15,
   "metadata": {},
   "outputs": [
    {
     "name": "stderr",
     "output_type": "stream",
     "text": [
      "/home/kargadan/.conda/envs/AI_virtual_env/lib/python3.6/site-packages/matplotlib/font_manager.py:279: UserWarning: Matplotlib is building the font cache using fc-list. This may take a moment.\n",
      "  'Matplotlib is building the font cache using fc-list. '\n"
     ]
    },
    {
     "data": {
      "image/png": "[encoded data removed]",
      "text/plain": [
       "<matplotlib.figure.Figure at 0x7f544960b588>"
      ]
     },
     "metadata": {},
     "output_type": "display_data"
    }
   ],
   "source": [
    "# plot the result\n",
    "\n",
    "plt.scatter(X, y, s=10, color='gray')\n",
    "plt.plot(X, h(X, w, b), color='red', label='Ours');\n",
    "plt.plot(X, model.predict(X), color='blue', label='Best');\n",
    "plt.legend();"
   ]
  },
  {
   "cell_type": "markdown",
   "metadata": {},
   "source": [
    "Our hypothesis should be close to the best hypothesis. If they are not the same, raise `n_iterations` argument for our `gradient_descent` function and be careful of `alpha` the learning rate.\n",
    "\n",
    "How well your linear regression model is? How much happy are you!? :D"
   ]
  }
 ],
 "metadata": {
  "anaconda-cloud": {},
  "kernelspec": {
   "display_name": "Python 3",
   "language": "python",
   "name": "python3"
  },
  "language_info": {
   "codemirror_mode": {
    "name": "ipython",
    "version": 3
   },
   "file_extension": ".py",
   "mimetype": "text/x-python",
   "name": "python",
   "nbconvert_exporter": "python",
   "pygments_lexer": "ipython3",
   "version": "3.6.3"
  }
 },
 "nbformat": 4,
 "nbformat_minor": 2
}
