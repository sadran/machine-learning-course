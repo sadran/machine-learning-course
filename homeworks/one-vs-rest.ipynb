{
 "cells": [
  {
   "cell_type": "markdown",
   "metadata": {},
   "source": [
    "# Homework #3.2: One vs. Rest\n",
    "\n",
    "This homework is about multinomial classification using OVR technique. Do the following:\n",
    "\n",
    "1. Get iris dataset from `sklearn` using `sklearn.datasets.load_iris()`.\n",
    "2. There are 3 classes (labels): 0, 1 and 2. Peek class 0 and convert all of the zeros in $ y $ vector to one. Convert the rest labels (1s and 2s) to zero.\n",
    "3. Create a `LogisticRegression` model and fit it on $ X $ and the new $ y $. Get predictions (the probabilities) from the model with `.predict_proba()` function.\n",
    "4. Do steps 2 and 3 once again for class 1 and once for class 2.\n",
    "5. Now you have 3 probabilities: one for class 0, one for 1 and one for 2. The real class for each data item is the maximum probability among its 3 probability. For example if data item number 5 has 0.1 probability for class 0, 0.7 for class 1 and 0.4 for class 2, its true class is 1.\n",
    "6. Draw a 2D plot using `matplotlib` to show that the OVR classification works well.\n",
    "\n",
    "For more information:  \n",
    "[scikit-learn example about OVR](http://scikit-learn.org/stable/auto_examples/linear_model/plot_logistic_multinomial.html)\n",
    "(Note: in this example, it has used `LogisticRegression` once for OVR but you should use it 3 times)\n",
    "\n",
    "[OVR - Wikipedia](https://en.wikipedia.org/wiki/Multiclass_classification#One-vs.-rest)\n",
    "\n",
    "[Coursera Machine Learning Course - Andrew Ng](https://www.coursera.org/learn/machine-learning/lecture/68Pol/multiclass-classification-one-vs-all)\n",
    "\n",
    "Good luck!"
   ]
  },
  {
   "cell_type": "code",
   "execution_count": 72,
   "metadata": {
    "collapsed": true
   },
   "outputs": [],
   "source": [
    "import numpy as np\n",
    "import pandas as pd\n",
    "import matplotlib.pyplot as plt\n",
    "from sklearn.datasets import make_blobs\n",
    "from sklearn import  linear_model,datasets\n",
    "\n",
    "%matplotlib inline"
   ]
  },
  {
   "cell_type": "code",
   "execution_count": 65,
   "metadata": {},
   "outputs": [],
   "source": [
    "X = datasets.load_iris().data\n",
    "#make 3 class\n",
    "\n",
    "y_true =np.zeros((150,3))\n",
    "y_true[:51 , 0] = 1\n",
    "y_true[51:101 , 1] = 1\n",
    "y_true[101:, 2] = 1\n",
    "\n",
    "#y_t= pd.DataFrame(y_true)\n",
    "y_pred = np.zeros((150,3))"
   ]
  },
  {
   "cell_type": "code",
   "execution_count": 117,
   "metadata": {},
   "outputs": [],
   "source": [
    "logreg = linear_model.LogisticRegression()\n",
    "proba = np.zeros((150,3))\n",
    "res=np.zeros(150)\n",
    "for i in range(3):\n",
    "    logreg.fit(X, y_true[:,i])\n",
    "    y_pred[:,i]=logreg.predict(X)\n",
    "    proba[: ,i]=logreg.predict_proba(X)[:,1]\n",
    "    \n",
    "for j in range(150):\n",
    "    res[j]=np.argmax(proba[j,:] , axis=0)\n",
    "     \n"
   ]
  },
  {
   "cell_type": "code",
   "execution_count": 175,
   "metadata": {},
   "outputs": [
    {
     "data": {
      "text/plain": [
       "<matplotlib.collections.PathCollection at 0x7f584fb89390>"
      ]
     },
     "execution_count": 175,
     "metadata": {},
     "output_type": "execute_result"
    },
    {
     "data": {
      "image/png": "iVBORw0KGgoAAAANSUhEUgAAAXcAAAD8CAYAAACMwORRAAAABHNCSVQICAgIfAhkiAAAAAlwSFlz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\nqRSkyV0ppVKQJnellEpB/x+PKgn0TDSOdAAAAABJRU5ErkJggg==\n",
      "text/plain": [
       "<matplotlib.figure.Figure at 0x7f584faf2dd8>"
      ]
     },
     "metadata": {},
     "output_type": "display_data"
    }
   ],
   "source": [
    "x_min, x_max = X[:, 0].min() - .5, X[:, 0].max() + .5\n",
    "y_min, y_max = X[:, 1].min() - .5, X[:, 1].max() + .5\n",
    "\n",
    "    \n",
    "f, axes = plt.subplots(1, 1)\n",
    "axes.set_facecolor((0,.5,.5))\n",
    "axes.scatter(X[:, 0], X[:, 1], c=res, s=10, cmap=plt.cm.gist_heat)\n",
    "\n",
    "\n"
   ]
  },
  {
   "cell_type": "code",
   "execution_count": null,
   "metadata": {
    "collapsed": true
   },
   "outputs": [],
   "source": []
  },
  {
   "cell_type": "code",
   "execution_count": null,
   "metadata": {
    "collapsed": true
   },
   "outputs": [],
   "source": []
  },
  {
   "cell_type": "code",
   "execution_count": null,
   "metadata": {
    "collapsed": true
   },
   "outputs": [],
   "source": []
  }
 ],
 "metadata": {
  "kernelspec": {
   "display_name": "Python 3",
   "language": "python",
   "name": "python3"
  },
  "language_info": {
   "codemirror_mode": {
    "name": "ipython",
    "version": 3
   },
   "file_extension": ".py",
   "mimetype": "text/x-python",
   "name": "python",
   "nbconvert_exporter": "python",
   "pygments_lexer": "ipython3",
<<<<<<< HEAD
   "version": "3.6.3"
=======
   "version": "3.5.3"
>>>>>>> 05fe367a8113cad8372273a15267da54cd6f44fd
  }
 },
 "nbformat": 4,
 "nbformat_minor": 2
}
