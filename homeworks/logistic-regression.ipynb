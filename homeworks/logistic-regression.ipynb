{
 "cells": [
  {
   "cell_type": "markdown",
   "metadata": {},
   "source": [
    "# Homework #3.1: Logistic Regression\n",
    "\n",
    "In this homework you will learn the concepts of logistic regression by implementing it.\n",
    "\n",
    "Implement the body of each function and test whether you have done right for each of them or not by running the tests. Each function has a test code block just below its definition.\n",
    "\n",
    "- Remember: **m** = number of data items (size of the data set) and **n** = number of features\n",
    "\n",
    "Good luck!"
   ]
  },
  {
   "cell_type": "code",
   "execution_count": 2,
   "metadata": {
    "collapsed": true
   },
   "outputs": [],
   "source": [
    "# import what we need\n",
    "\n",
    "import numpy as np\n",
    "from matplotlib import pyplot as plt\n",
    "%matplotlib inline"
   ]
  },
  {
   "cell_type": "markdown",
   "metadata": {},
   "source": [
    "## Sigmoid\n",
    "\n",
    "Sigmoid is a non linear function defined as:\n",
    "\n",
    "$$ g(z) = \\frac{1}{1 + e^{-z}} $$\n",
    "\n",
    "![sigmoid](../images/logistic-regression/sigmoid.png)\n",
    "\n",
    "and its derivation is:\n",
    "\n",
    "$$ g'(z) = g(z)(1 - g(z)) $$"
   ]
  },
  {
   "cell_type": "code",
   "execution_count": 9,
   "metadata": {
    "collapsed": true
   },
   "outputs": [],
   "source": [
    "def sigmoid(z):\n",
    "    \"\"\"\n",
    "    Sigmoid function\n",
    "    \n",
    "    z: an arbitrary matrix (a x b)\n",
    "    \n",
    "    Return: a matrix (a x b) containing sigmoid of each element of z (element wise sigmoid values)\n",
    "    \"\"\"\n",
    "    # YOUR CODE GOES HERE (~ 1 line of code)\n",
    "    return 1/(1+np.exp(-z))\n",
    "    "
   ]
  },
  {
   "cell_type": "code",
   "execution_count": 10,
   "metadata": {},
   "outputs": [
    {
     "data": {
      "text/plain": [
       "<matplotlib.lines.Line2D at 0x7f694efaa1d0>"
      ]
     },
     "execution_count": 10,
     "metadata": {},
     "output_type": "execute_result"
    },
    {
     "data": {
      "image/png": "[encoded data removed]",
      "text/plain": [
       "<matplotlib.figure.Figure at 0x7f694efaa198>"
      ]
     },
     "metadata": {},
     "output_type": "display_data"
    }
   ],
   "source": [
    "# test the sigmoid function by visualization\n",
    "\n",
    "x = np.arange(-10, 10, .1)\n",
    "y = sigmoid(x)\n",
    "plt.plot(x, y)\n",
    "plt.axvline(0, c='gray', linewidth=1)"
   ]
  },
  {
   "cell_type": "markdown",
   "metadata": {},
   "source": [
    "## Hypothesis Function\n",
    "\n",
    "For a single data item $ x_{1 \\times n} $, the hypothesis is the sigmoid of the linear product of $ w_{n \\times 1} $ and $ x_{1 \\times n} $ in addition to bias $ b_{1 \\times 1} $. The result is a number:\n",
    "\n",
    "$$ h_{w,b}(x) = g(w^Tx + b) = \\frac{1}{1 + e^{-w^Tx + b}} $$\n",
    "\n",
    "For a data set $ X_{m \\times n} $ which contains multiple data items stacking vertically, the result is a vector $ h_{m \\times 1} $ which contains predections for all data items:\n",
    "\n",
    "$$ h_{w,b}(X) = g(Xw + b) = \\frac{1}{1 + e^{-Xw + b}} $$"
   ]
  },
  {
   "cell_type": "code",
   "execution_count": 15,
   "metadata": {
    "collapsed": true
   },
   "outputs": [],
   "source": [
    "def h(X, w, b):\n",
    "    \"\"\"\n",
    "    The hypothesis function\n",
    "    \n",
    "    X: the data set matrix (m x n)\n",
    "    w: the weights vector (n x 1)\n",
    "    b: the bias (1 x 1)\n",
    "    \n",
    "    Return: a vector stacking predictions for all data items (m x 1)\n",
    "    \"\"\"\n",
    "    # YOUR CODE GOES HERE (~ 1 line of code)\n",
    "    return sigmoid(X.dot(w)+b)"
   ]
  },
  {
   "cell_type": "code",
   "execution_count": 16,
   "metadata": {},
   "outputs": [
    {
     "name": "stdout",
     "output_type": "stream",
     "text": [
      "Hypothesis ok.\n"
     ]
    }
   ],
   "source": [
    "# test the hypothesis\n",
    "\n",
    "X, y, w, b = (np.array([[.1, .2, .3], [.4, .5, .6]]), np.array([[1], [0]]), np.array([[.3], [.4], [.5]]), .5)\n",
    "\n",
    "hyp = h(X, w, b)\n",
    "true = np.array([[0.68135373], [0.75398872]])\n",
    "\n",
    "assert hyp.shape == (X.shape[0], 1), \\\n",
    "       'The result should be in shape ({}, 1). Currently is {}'.format(X.shape[0], hyp.shape)\n",
    "\n",
    "if np.allclose(hyp, true):\n",
    "    print('Hypothesis ok.')\n",
    "else:\n",
    "    print('Hypothesis does not work properly.')"
   ]
  },
  {
   "cell_type": "markdown",
   "metadata": {},
   "source": [
    "## Cost Function\n",
    "\n",
    "Cost function for a logistic regression model is [Cross Entropy](https://en.wikipedia.org/wiki/Cross_entropy) over data set:\n",
    "\n",
    "$$ \\begin{equation}\n",
    "   \\begin{split}\n",
    "   J_{w,b}(X) &= -\\frac{1}{m}\\sum_{i=1}^m y^{(i)} \\log(h_{w,b}(x^{(i)})) + (1 - y^{(i)}) \\log(1 - h_{w,b}(x^{(i)})) \\\\\n",
    "   &= -\\frac{1}{m}\\sum_{i=1}^m y^{(i)} \\log(\\hat{y}^{(i)}) + (1 - y^{(i)}) \\log(1 - \\hat{y}^{(i)})\n",
    "   \\end{split}\n",
    "   \\end{equation} $$\n",
    "\n",
    "The goal of logistic regression is to minimize this cost."
   ]
  },
  {
   "cell_type": "code",
   "execution_count": 20,
   "metadata": {
    "collapsed": true
   },
   "outputs": [],
   "source": [
    "def cost(y_true, y_pred):\n",
    "    \"\"\"\n",
    "    Cross Entropy function\n",
    "    \n",
    "    y_true: the vector of true labels of data items (m x 1)\n",
    "    y_pred: the vector of predictions of data items (m x 1)\n",
    "    \n",
    "    Return: a single number representing the cost\n",
    "    \"\"\"\n",
    "    # YOUR CODE GOES HERE (~ 2 lines of code)\n",
    "    zigma = (y_true.T).dot(np.log(y_pred)) + (1- y_true).T.dot(np.log(1-y_pred))\n",
    "    return (-1/y_true.shape[0])*zigma\n"
   ]
  },
  {
   "cell_type": "code",
   "execution_count": 21,
   "metadata": {},
   "outputs": [
    {
     "name": "stdout",
     "output_type": "stream",
     "text": [
      "Cost function ok.\n"
     ]
    }
   ],
   "source": [
    "# test cost function\n",
    "\n",
    "from sklearn.metrics import log_loss\n",
    "\n",
    "X, y, w, b = (np.array([[.1, .2, .3], [.4, .5, .6]]), np.array([[1], [0]]), np.array([[.3], [.4], [.5]]), .5)\n",
    "\n",
    "cre = log_loss(y, h(X, w, b))\n",
    "cst = cost(y, h(X, w, b))\n",
    "\n",
    "if np.isclose(cre, cst):\n",
    "    print('Cost function ok.')\n",
    "else:\n",
    "    print('Cost function does not work properly.')\n",
    "    print('Should\\'ve returned:', cre)\n",
    "    print('Returned:', cst)"
   ]
  },
  {
   "cell_type": "markdown",
   "metadata": {},
   "source": [
    "## Gradient Descent\n",
    "\n",
    "Gradient descent algorithm tries to find the minimum of a function by starting somewhere on the function and taking small steps through the gradient of the function.\n",
    "\n",
    "In logistic regression, the function we are trying to minimize is the cost function $ J_{w,b}(X) $. The derivations are:\n",
    "\n",
    "$$ \\begin{equation}\n",
    "   \\begin{split}\n",
    "       \\frac{\\partial J_{w,b}(X)}{\\partial w_j}\n",
    "       &= \\frac{1}{m}\\sum_{i=1}^m (h_{w,b}(x^{(i)}) - y^{(i)})x_j^{(i)} \\\\\n",
    "       &= \\frac{1}{m}\\sum_{i=1}^m (\\hat{y}^{(i)} - y^{(i)})x_j^{(i)}\n",
    "   \\end{split}\n",
    "   \\end{equation} $$\n",
    "   \n",
    "$$ \\begin{equation}\n",
    "   \\begin{split}\n",
    "       \\frac{\\partial J_{w,b}(X)}{\\partial b}\n",
    "       &= \\frac{1}{m}\\sum_{i=1}^m (h_{w,b}(x^{(i)}) - y^{(i)}) \\\\\n",
    "       &= \\frac{1}{m}\\sum_{i=1}^m (\\hat{y}^{(i)} - y^{(i)})\n",
    "   \\end{split}\n",
    "   \\end{equation} $$\n",
    "   \n",
    "- Actually these two derivations are the same except that in the second one, $ x_{0}^{(i)} = 1 $.\n",
    "- This cost is similar to the cost of linear regression except that here, there is a sigmoid function over the hypothesis; i.e. $ h_{w,b}(x) = g(w^Tx + b) $."
   ]
  },
  {
   "cell_type": "code",
   "execution_count": 26,
   "metadata": {
    "collapsed": true
   },
   "outputs": [],
   "source": [
    "def gradient(X, y_true, y_pred):\n",
    "    \"\"\"\n",
    "    The gradient of cost function\n",
    "    \n",
    "    X: the data set matrix (m x n)\n",
    "    y_true: the vector of true labels of data items (m x 1)\n",
    "    y_pred: the vector of predictions of data items (m x 1)\n",
    "    \n",
    "    Return: vector dJ/dw (n x 1) and number dJ/db (1 x 1)\n",
    "    \"\"\"\n",
    "    # YOUR CODE GOES HERE (~ 4 lines of code)\n",
    "    dJdw = (1/y_true.shape[0])*(X.T).dot(y_pred - y_true)\n",
    "    dJdb = (1/y_true.shape[0])*( (y_pred - y_true).sum() )\n",
    "    return dJdw , dJdb"
   ]
  },
  {
   "cell_type": "code",
   "execution_count": 28,
   "metadata": {},
   "outputs": [
    {
     "name": "stdout",
     "output_type": "stream",
     "text": [
      "Gradient function ok.\n"
     ]
    }
   ],
   "source": [
    "X, y, w, b = (np.array([[.1, .2, .3], [.4, .5, .6]]), np.array([[1], [0]]), np.array([[.3], [.4], [.5]]), .5)\n",
    "\n",
    "true = (np.array([[0.13486543], [0.15663255], [0.17839968]]), 0.2176712251189869)\n",
    "res = gradient(X, y, h(X, w, b))\n",
    "\n",
    "if np.allclose(res[0], true[0]) and np.isclose(res[1], true[1]):\n",
    "    print('Gradient function ok.')\n",
    "else:\n",
    "    print('Gradient function is not working properly.')\n",
    "    print('should output:', true)\n",
    "    print('Outputted:', res)"
   ]
  },
  {
   "cell_type": "code",
   "execution_count": 60,
   "metadata": {},
   "outputs": [],
   "source": [
    "def update_parameters(X, y_true, y_pred, w, b, alpha):\n",
    "    \"\"\"\n",
    "    This function updates parameters w and b according to their derivations.\n",
    "    It should compute the cost function derivations with respect to w and b first,\n",
    "        then take a step for each parameters in w and b.\n",
    "    \n",
    "    X: the data set matrix (m x n)\n",
    "    y_true: the vector of true labels of data items (m x 1)\n",
    "    y_pred: the vector of predictions of data items (m x 1)\n",
    "    w: the weights vector (n x 1)\n",
    "    b: the bias (1 x 1)\n",
    "    alpha: the learning rate\n",
    "    \n",
    "    Returns: the updated parameters w and b\n",
    "    \"\"\"\n",
    "    # YOUR CODE GOES HERE (~ 4 lines of code)\n",
    "    wnew = w - alpha * gradient(X, y_true, y_pred)[0]\n",
    "    bnew = b - alpha * gradient(X, y_true, y_pred)[1]\n",
    "    return wnew, bnew"
   ]
  },
  {
   "cell_type": "code",
   "execution_count": 61,
   "metadata": {},
   "outputs": [
    {
     "name": "stdout",
     "output_type": "stream",
     "text": [
      "Update parameters function ok.\n"
     ]
    }
   ],
   "source": [
    "# test update_parameters function\n",
    "\n",
    "X, y, w, b = (np.array([[.1, .2, .3], [.4, .5, .6]]), np.array([[1], [0]]), np.array([[.3], [.4], [.5]]), .5)\n",
    "\n",
    "res = update_parameters(X, y, h(X, w, b), w, b, 0.01)\n",
    "true = (np.array([[0.29865135], [0.39843367], [0.498216]]), 0.49782328774881013)\n",
    "\n",
    "if np.allclose(res[0], true[0]) and np.isclose(res[1], true[1]):\n",
    "    print('Update parameters function ok.')\n",
    "else:\n",
    "    print('Update parameters function is not working properly.')\n",
    "    print('should output:', true)\n",
    "    print('Outputted:', res)"
   ]
  },
  {
   "cell_type": "code",
   "execution_count": 99,
   "metadata": {},
   "outputs": [],
   "source": [
    "def gradient_descent(X, y, alpha, n_iterations):\n",
    "    \"\"\"\n",
    "    The gradient descent algorithm:\n",
    "        1. initialize parameters w and b to zeros (not random)\n",
    "        for i in n_iterations:\n",
    "            2. compute the hypothesis h(X, w, b)\n",
    "            3. update the parameters using function update_parameters(X, y_true, y_pred, w, b, alpha)\n",
    "            4. compute the cost and see the cost is decreasing in each step (optional)\n",
    "            \n",
    "    X: the data set matrix (m x n)\n",
    "    y: the vector of true labels of data items (m x 1)\n",
    "    alpha: the learning rate\n",
    "    n_iterations: number of steps gradient descent should take to converge\n",
    "    \n",
    "    Returns: the best parameters w and b gradient descent found at last\n",
    "    \"\"\"\n",
    "    # YOUR CODE GOES HERE (~ 7 lines of code)\n",
    "    w = np.zeros(( X.shape[1], 1))\n",
    "    b = 0\n",
    "    for i in range(n_iterations):\n",
    "        y_pred = h(X, w, b)\n",
    "        w, b=update_parameters(X, y, y_pred, w, b, alpha)\n",
    "        print(\"step {}: cost = {}\".format( i, cost(y, y_pred) ) )\n",
    "    return w, b"
   ]
  },
  {
   "cell_type": "code",
   "execution_count": 100,
   "metadata": {},
   "outputs": [
    {
     "name": "stdout",
     "output_type": "stream",
     "text": [
      "step 0: cost = [[ 0.69314718]]\n",
      "step 1: cost = [[ 0.69297852]]\n",
      "step 2: cost = [[ 0.69281023]]\n",
      "step 3: cost = [[ 0.6926423]]\n",
      "step 4: cost = [[ 0.69247473]]\n",
      "step 5: cost = [[ 0.69230752]]\n",
      "step 6: cost = [[ 0.69214067]]\n",
      "step 7: cost = [[ 0.69197417]]\n",
      "step 8: cost = [[ 0.69180803]]\n",
      "step 9: cost = [[ 0.69164223]]\n",
      "step 10: cost = [[ 0.69147678]]\n",
      "step 11: cost = [[ 0.69131168]]\n",
      "step 12: cost = [[ 0.69114691]]\n",
      "step 13: cost = [[ 0.69098249]]\n",
      "step 14: cost = [[ 0.69081841]]\n",
      "step 15: cost = [[ 0.69065467]]\n",
      "step 16: cost = [[ 0.69049125]]\n",
      "step 17: cost = [[ 0.69032817]]\n",
      "step 18: cost = [[ 0.69016542]]\n",
      "step 19: cost = [[ 0.690003]]\n",
      "Gradient descent function ok.\n"
     ]
    }
   ],
   "source": [
    "# test gradient_descent function\n",
    "\n",
    "true = (np.array([[-0.01488461], [-0.014848], [-0.0148114]]), 0.00036601406503539797)\n",
    "res = gradient_descent(X, y, 0.01, 20)\n",
    "\n",
    "if np.allclose(res[0], true[0]) and np.isclose(res[1], true[1]):\n",
    "    print('Gradient descent function ok.')\n",
    "else:\n",
    "    print('Gradient descent function is not working properly.')\n",
    "    print('should output:', true)\n",
    "    print('Outputted:', res)"
   ]
  },
  {
   "cell_type": "markdown",
   "metadata": {},
   "source": [
    "## Test on Real Data"
   ]
  },
  {
   "cell_type": "code",
   "execution_count": 102,
   "metadata": {
    "collapsed": true
   },
   "outputs": [],
   "source": [
    "# load the data\n",
    "\n",
    "from sklearn.datasets import load_iris\n",
    "from sklearn.preprocessing import scale\n",
    "X, y = load_iris(return_X_y=True)\n",
    "X = X[:, 0:2]\n",
    "X = X[y != 2]\n",
    "X = scale(X)\n",
    "y = y[y != 2]\n",
    "y = y.reshape((y.shape[0], 1))"
   ]
  },
  {
   "cell_type": "code",
   "execution_count": 103,
   "metadata": {
    "collapsed": true
   },
   "outputs": [],
   "source": [
    "# train a linear regression model from sklearn\n",
    "\n",
    "from sklearn.linear_model import LogisticRegression\n",
    "model = LogisticRegression().fit(X, y.ravel())"
   ]
  },
  {
   "cell_type": "code",
   "execution_count": 107,
   "metadata": {},
   "outputs": [
    {
     "name": "stdout",
     "output_type": "stream",
     "text": [
      "step 0: cost = [[ 0.69314718]]\n",
      "step 1: cost = [[ 0.66856338]]\n",
      "step 2: cost = [[ 0.64542791]]\n",
      "step 3: cost = [[ 0.62365148]]\n",
      "step 4: cost = [[ 0.60314782]]\n",
      "step 5: cost = [[ 0.58383428]]\n",
      "step 6: cost = [[ 0.56563214]]\n",
      "step 7: cost = [[ 0.54846689]]\n",
      "step 8: cost = [[ 0.53226832]]\n",
      "step 9: cost = [[ 0.51697058]]\n",
      "step 10: cost = [[ 0.50251204]]\n",
      "step 11: cost = [[ 0.48883527]]\n",
      "step 12: cost = [[ 0.47588683]]\n",
      "step 13: cost = [[ 0.46361708]]\n",
      "step 14: cost = [[ 0.45197998]]\n",
      "step 15: cost = [[ 0.44093291]]\n",
      "step 16: cost = [[ 0.4304364]]\n",
      "step 17: cost = [[ 0.42045394]]\n",
      "step 18: cost = [[ 0.41095178]]\n",
      "step 19: cost = [[ 0.40189869]]\n",
      "step 20: cost = [[ 0.39326582]]\n",
      "step 21: cost = [[ 0.38502647]]\n",
      "step 22: cost = [[ 0.37715595]]\n",
      "step 23: cost = [[ 0.36963141]]\n",
      "step 24: cost = [[ 0.36243169]]\n",
      "step 25: cost = [[ 0.3555372]]\n",
      "step 26: cost = [[ 0.34892975]]\n",
      "step 27: cost = [[ 0.34259251]]\n",
      "step 28: cost = [[ 0.33650983]]\n",
      "step 29: cost = [[ 0.33066717]]\n",
      "step 30: cost = [[ 0.32505104]]\n",
      "step 31: cost = [[ 0.31964886]]\n",
      "step 32: cost = [[ 0.31444893]]\n",
      "step 33: cost = [[ 0.30944036]]\n",
      "step 34: cost = [[ 0.30461298]]\n",
      "step 35: cost = [[ 0.29995729]]\n",
      "step 36: cost = [[ 0.29546443]]\n",
      "step 37: cost = [[ 0.29112611]]\n",
      "step 38: cost = [[ 0.28693458]]\n",
      "step 39: cost = [[ 0.28288259]]\n",
      "step 40: cost = [[ 0.27896331]]\n",
      "step 41: cost = [[ 0.27517037]]\n",
      "step 42: cost = [[ 0.27149778]]\n",
      "step 43: cost = [[ 0.26793991]]\n",
      "step 44: cost = [[ 0.26449147]]\n",
      "step 45: cost = [[ 0.26114747]]\n",
      "step 46: cost = [[ 0.25790324]]\n",
      "step 47: cost = [[ 0.25475435]]\n",
      "step 48: cost = [[ 0.25169663]]\n",
      "step 49: cost = [[ 0.24872616]]\n",
      "step 50: cost = [[ 0.24583923]]\n",
      "step 51: cost = [[ 0.24303232]]\n",
      "step 52: cost = [[ 0.24030212]]\n",
      "step 53: cost = [[ 0.23764549]]\n",
      "step 54: cost = [[ 0.23505946]]\n",
      "step 55: cost = [[ 0.23254121]]\n",
      "step 56: cost = [[ 0.23008807]]\n",
      "step 57: cost = [[ 0.22769751]]\n",
      "step 58: cost = [[ 0.22536712]]\n",
      "step 59: cost = [[ 0.22309462]]\n",
      "step 60: cost = [[ 0.22087784]]\n",
      "step 61: cost = [[ 0.21871471]]\n",
      "step 62: cost = [[ 0.21660327]]\n",
      "step 63: cost = [[ 0.21454165]]\n",
      "step 64: cost = [[ 0.21252806]]\n",
      "step 65: cost = [[ 0.21056081]]\n",
      "step 66: cost = [[ 0.20863828]]\n",
      "step 67: cost = [[ 0.20675892]]\n",
      "step 68: cost = [[ 0.20492126]]\n",
      "step 69: cost = [[ 0.20312389]]\n",
      "step 70: cost = [[ 0.20136546]]\n",
      "step 71: cost = [[ 0.19964468]]\n",
      "step 72: cost = [[ 0.19796033]]\n",
      "step 73: cost = [[ 0.19631123]]\n",
      "step 74: cost = [[ 0.19469625]]\n",
      "step 75: cost = [[ 0.1931143]]\n",
      "step 76: cost = [[ 0.19156436]]\n",
      "step 77: cost = [[ 0.19004543]]\n",
      "step 78: cost = [[ 0.18855656]]\n",
      "step 79: cost = [[ 0.18709684]]\n",
      "step 80: cost = [[ 0.1856654]]\n",
      "step 81: cost = [[ 0.18426138]]\n",
      "step 82: cost = [[ 0.18288398]]\n",
      "step 83: cost = [[ 0.18153243]]\n",
      "step 84: cost = [[ 0.18020598]]\n",
      "step 85: cost = [[ 0.17890391]]\n",
      "step 86: cost = [[ 0.17762553]]\n",
      "step 87: cost = [[ 0.17637018]]\n",
      "step 88: cost = [[ 0.17513721]]\n",
      "step 89: cost = [[ 0.17392601]]\n",
      "step 90: cost = [[ 0.17273599]]\n",
      "step 91: cost = [[ 0.17156657]]\n",
      "step 92: cost = [[ 0.1704172]]\n",
      "step 93: cost = [[ 0.16928735]]\n",
      "step 94: cost = [[ 0.16817651]]\n",
      "step 95: cost = [[ 0.16708418]]\n",
      "step 96: cost = [[ 0.16600988]]\n",
      "step 97: cost = [[ 0.16495315]]\n",
      "step 98: cost = [[ 0.16391355]]\n",
      "step 99: cost = [[ 0.16289065]]\n"
     ]
    }
   ],
   "source": [
    "# train our linear regression model\n",
    "\n",
    "w, b = gradient_descent(X, y, 0.1, 100)"
   ]
  },
  {
   "cell_type": "code",
   "execution_count": 147,
   "metadata": {},
   "outputs": [
    {
     "data": {
      "image/png": "[encoded data removed]",
      "text/plain": [
       "<matplotlib.figure.Figure at 0x7f6941c09ef0>"
      ]
     },
     "metadata": {},
     "output_type": "display_data"
    }
   ],
   "source": [
    "# plot the result\n",
    "\n",
    "x_min, x_max = X[:, 0].min() - .5, X[:, 0].max() + .5\n",
    "y_min, y_max = X[:, 1].min() - .5, X[:, 1].max() + .5\n",
    "xx, yy = np.meshgrid(np.arange(x_min, x_max, .02), np.arange(y_min, y_max, .02))\n",
    "Z1 = model.predict_proba(np.c_[xx.ravel(), yy.ravel()])[:, 1]\n",
    "Z2 = h(np.c_[xx.ravel(), yy.ravel()], w, b)\n",
    "\n",
    "f, axes = plt.subplots(1, 2)\n",
    "\n",
    "axes[0].contourf(xx, yy, Z1.reshape(xx.shape), cmap=plt.cm.binary, alpha=.8)\n",
    "axes[1].contourf(xx, yy, Z2.reshape(xx.shape), cmap=plt.cm.binary, alpha=.8)\n",
    "axes[0].scatter(X[:, 0], X[:, 1], c=model.predict(X), s=10, cmap=plt.cm.winter)\n",
    "axes[1].scatter(X[:, 0], X[:, 1], c=h(X, w, b)[:,0] > .5, s=10, cmap=plt.cm.winter)\n",
    "\n",
    "axes[0].set_title('Best');\n",
    "axes[1].set_title('Ours');"
   ]
  },
  {
   "cell_type": "markdown",
   "metadata": {},
   "source": [
    "Our hypothesis should be close to the best hypothesis. If they are not the same, raise `n_iterations` argument for our `gradient_descent` function and be careful of `alpha` the learning rate.\n",
    "\n",
    "How well your logistic regression model is? How much happy are you!? :D"
   ]
  }
 ],
 "metadata": {
  "kernelspec": {
   "display_name": "Python 3",
   "language": "python",
   "name": "python3"
  },
  "language_info": {
   "codemirror_mode": {
    "name": "ipython",
    "version": 3
   },
   "file_extension": ".py",
   "mimetype": "text/x-python",
   "name": "python",
   "nbconvert_exporter": "python",
   "pygments_lexer": "ipython3",
   "version": "3.6.3"
  }
 },
 "nbformat": 4,
 "nbformat_minor": 2
}
